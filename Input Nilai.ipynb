{
 "cells": [
  {
   "cell_type": "code",
   "execution_count": 4,
   "metadata": {},
   "outputs": [
    {
     "name": "stdout",
     "output_type": "stream",
     "text": [
      "********************\n",
      "*****Data Input*****\n",
      "NIS:1180\n",
      "Nama:Alfin\n",
      "Jenis Kelamin:Laki\n",
      "Rombel:RPL\n",
      "Rayon:Cic1\n",
      "B.Indonesia:75\n",
      "Matematika:75\n",
      "B. Inggris:75\n",
      "**********************\n",
      "Laporan Akhir Semester\n",
      "  SMK Wikrama Bogor\n",
      "*****Data Diri*****\n",
      "NIS: 1180\n",
      "Nama: Alfin\n",
      "Jenis Kelamin: Laki\n",
      "Rombel: RPL\n",
      "Rayon: Cic1\n",
      "******Nilai******\n",
      "Bahasa Indonesia:  75\n",
      "Matematika:  75\n",
      "Bahasa Inggris:  75\n",
      "Rata-rata Nilai:  75.0\n",
      "Kriteria kelulusan: Lulus\n"
     ]
    }
   ],
   "source": [
    "print(\"*\"*20)\n",
    "print(\"*****Data Input*****\")\n",
    "nis = int(input(\"NIS:\"))\n",
    "nama = str(input(\"Nama:\"))\n",
    "jk = str(input(\"Jenis Kelamin:\"))\n",
    "rombel = (input(\"Rombel:\"))\n",
    "rayon = (input(\"Rayon:\"))\n",
    "indo = int(input(\"B.Indonesia:\"))\n",
    "mtk = int(input(\"Matematika:\"))\n",
    "eng = int(input(\"B. Inggris:\"))\n",
    "\n",
    "print(\"*\"*22)\n",
    "print(\"Laporan Akhir Semester\")\n",
    "print(\"  SMK Wikrama Bogor\")\n",
    "print(\"*****Data Diri*****\")\n",
    "print(\"NIS:\",nis)\n",
    "print(\"Nama:\",nama)\n",
    "print(\"Jenis Kelamin:\",jk)\n",
    "print(\"Rombel:\",rombel)\n",
    "print(\"Rayon:\",rayon)\n",
    "\n",
    "print(\"******Nilai******\")\n",
    "print(\"Bahasa Indonesia:\",indo)\n",
    "print(\"Matematika: \",mtk)\n",
    "print(\"Bahasa Inggris:\",eng)\n",
    "rata= print(\"Rata-rata Nilai:\",(indo+mtk+eng)/3)\n",
    "if (indo+mtk+eng)/3>=75:\n",
    "    print(\"Kriteria kelulusan: Lulus\")\n",
    "else:\n",
    "    print(\"Kriteria kelulusan: Tidak lulus\")\n"
   ]
  },
  {
   "cell_type": "markdown",
   "metadata": {},
   "source": [
    "## "
   ]
  },
  {
   "cell_type": "markdown",
   "metadata": {},
   "source": []
  },
  {
   "cell_type": "markdown",
   "metadata": {},
   "source": [
    "# "
   ]
  },
  {
   "cell_type": "markdown",
   "metadata": {},
   "source": [
    "# "
   ]
  },
  {
   "cell_type": "markdown",
   "metadata": {},
   "source": [
    "# "
   ]
  },
  {
   "cell_type": "code",
   "execution_count": null,
   "metadata": {},
   "outputs": [],
   "source": []
  },
  {
   "cell_type": "code",
   "execution_count": null,
   "metadata": {},
   "outputs": [],
   "source": []
  },
  {
   "cell_type": "code",
   "execution_count": null,
   "metadata": {},
   "outputs": [],
   "source": []
  },
  {
   "cell_type": "code",
   "execution_count": null,
   "metadata": {},
   "outputs": [],
   "source": []
  },
  {
   "cell_type": "code",
   "execution_count": null,
   "metadata": {},
   "outputs": [],
   "source": []
  }
 ],
 "metadata": {
  "kernelspec": {
   "display_name": "Python 3",
   "language": "python",
   "name": "python3"
  },
  "language_info": {
   "codemirror_mode": {
    "name": "ipython",
    "version": 3
   },
   "file_extension": ".py",
   "mimetype": "text/x-python",
   "name": "python",
   "nbconvert_exporter": "python",
   "pygments_lexer": "ipython3",
   "version": "3.7.1"
  }
 },
 "nbformat": 4,
 "nbformat_minor": 2
}
